{
 "cells": [
  {
   "cell_type": "code",
   "execution_count": 7,
   "metadata": {},
   "outputs": [],
   "source": [
    "import datetime\n",
    "\n",
    "import pandas as pd\n",
    "\n",
    "from fixed_income import data, yieldcurves, plots\n",
    "\n",
    "pd.options.display.max_columns = None\n",
    "pd.options.display.max_rows = None\n",
    "\n",
    "% matplotlib notebook\n"
   ]
  },
  {
   "cell_type": "markdown",
   "metadata": {},
   "source": [
    "# Get Treasury data"
   ]
  },
  {
   "cell_type": "code",
   "execution_count": 13,
   "metadata": {
    "collapsed": true
   },
   "outputs": [],
   "source": [
    "quote_date = datetime.date(year=2017, month=12, day=12)\n",
    "\n",
    "df = data.treasury_direct(quote_date)"
   ]
  },
  {
   "cell_type": "code",
   "execution_count": 13,
   "metadata": {},
   "outputs": [
    {
     "data": {
      "text/html": [
       "<div>\n",
       "<style>\n",
       "    .dataframe thead tr:only-child th {\n",
       "        text-align: right;\n",
       "    }\n",
       "\n",
       "    .dataframe thead th {\n",
       "        text-align: left;\n",
       "    }\n",
       "\n",
       "    .dataframe tbody tr th {\n",
       "        vertical-align: top;\n",
       "    }\n",
       "</style>\n",
       "<table border=\"1\" class=\"dataframe\">\n",
       "  <thead>\n",
       "    <tr style=\"text-align: right;\">\n",
       "      <th></th>\n",
       "      <th>CUSIP</th>\n",
       "      <th>SECURITY TYPE</th>\n",
       "      <th>RATE</th>\n",
       "      <th>MATURITY DATE</th>\n",
       "      <th>CALL DATE</th>\n",
       "      <th>BUY</th>\n",
       "      <th>SELL</th>\n",
       "      <th>END OF DAY</th>\n",
       "      <th>MATURITY</th>\n",
       "    </tr>\n",
       "  </thead>\n",
       "  <tbody>\n",
       "    <tr>\n",
       "      <th>201</th>\n",
       "      <td>912828U65</td>\n",
       "      <td>MARKET BASED NOTE</td>\n",
       "      <td>1.750%</td>\n",
       "      <td>2021-11-30</td>\n",
       "      <td>NaN</td>\n",
       "      <td>98.656250</td>\n",
       "      <td>98.65625</td>\n",
       "      <td>98.68750</td>\n",
       "      <td>3.967227</td>\n",
       "    </tr>\n",
       "    <tr>\n",
       "      <th>202</th>\n",
       "      <td>912828U81</td>\n",
       "      <td>MARKET BASED NOTE</td>\n",
       "      <td>2.000%</td>\n",
       "      <td>2021-12-31</td>\n",
       "      <td>NaN</td>\n",
       "      <td>99.562500</td>\n",
       "      <td>99.56250</td>\n",
       "      <td>99.59375</td>\n",
       "      <td>4.052102</td>\n",
       "    </tr>\n",
       "    <tr>\n",
       "      <th>203</th>\n",
       "      <td>912828G87</td>\n",
       "      <td>MARKET BASED NOTE</td>\n",
       "      <td>2.125%</td>\n",
       "      <td>2021-12-31</td>\n",
       "      <td>NaN</td>\n",
       "      <td>100.109375</td>\n",
       "      <td>100.09375</td>\n",
       "      <td>100.12500</td>\n",
       "      <td>4.052102</td>\n",
       "    </tr>\n",
       "    <tr>\n",
       "      <th>204</th>\n",
       "      <td>912828H86</td>\n",
       "      <td>MARKET BASED NOTE</td>\n",
       "      <td>1.500%</td>\n",
       "      <td>2022-01-31</td>\n",
       "      <td>NaN</td>\n",
       "      <td>97.593750</td>\n",
       "      <td>97.59375</td>\n",
       "      <td>97.62500</td>\n",
       "      <td>4.136977</td>\n",
       "    </tr>\n",
       "    <tr>\n",
       "      <th>205</th>\n",
       "      <td>912828V72</td>\n",
       "      <td>MARKET BASED NOTE</td>\n",
       "      <td>1.875%</td>\n",
       "      <td>2022-01-31</td>\n",
       "      <td>NaN</td>\n",
       "      <td>99.015625</td>\n",
       "      <td>99.00000</td>\n",
       "      <td>99.06250</td>\n",
       "      <td>4.136977</td>\n",
       "    </tr>\n",
       "  </tbody>\n",
       "</table>\n",
       "</div>"
      ],
      "text/plain": [
       "<div>\n",
       "<style>\n",
       "    .dataframe thead tr:only-child th {\n",
       "        text-align: right;\n",
       "    }\n",
       "\n",
       "    .dataframe thead th {\n",
       "        text-align: left;\n",
       "    }\n",
       "\n",
       "    .dataframe tbody tr th {\n",
       "        vertical-align: top;\n",
       "    }\n",
       "</style>\n",
       "<table border=\"1\" class=\"dataframe\">\n",
       "  <thead>\n",
       "    <tr style=\"text-align: right;\">\n",
       "      <th></th>\n",
       "      <th>CUSIP</th>\n",
       "      <th>SECURITY TYPE</th>\n",
       "      <th>RATE</th>\n",
       "      <th>MATURITY DATE</th>\n",
       "      <th>CALL DATE</th>\n",
       "      <th>BUY</th>\n",
       "      <th>SELL</th>\n",
       "      <th>END OF DAY</th>\n",
       "      <th>MATURITY</th>\n",
       "    </tr>\n",
       "  </thead>\n",
       "  <tbody>\n",
       "    <tr>\n",
       "      <th>201</th>\n",
       "      <td>912828U65</td>\n",
       "      <td>MARKET BASED NOTE</td>\n",
       "      <td>1.750%</td>\n",
       "      <td>2021-11-30</td>\n",
       "      <td>NaN</td>\n",
       "      <td>98.656250</td>\n",
       "      <td>98.65625</td>\n",
       "      <td>98.68750</td>\n",
       "      <td>3.967227</td>\n",
       "    </tr>\n",
       "    <tr>\n",
       "      <th>202</th>\n",
       "      <td>912828U81</td>\n",
       "      <td>MARKET BASED NOTE</td>\n",
       "      <td>2.000%</td>\n",
       "      <td>2021-12-31</td>\n",
       "      <td>NaN</td>\n",
       "      <td>99.562500</td>\n",
       "      <td>99.56250</td>\n",
       "      <td>99.59375</td>\n",
       "      <td>4.052102</td>\n",
       "    </tr>\n",
       "    <tr>\n",
       "      <th>203</th>\n",
       "      <td>912828G87</td>\n",
       "      <td>MARKET BASED NOTE</td>\n",
       "      <td>2.125%</td>\n",
       "      <td>2021-12-31</td>\n",
       "      <td>NaN</td>\n",
       "      <td>100.109375</td>\n",
       "      <td>100.09375</td>\n",
       "      <td>100.12500</td>\n",
       "      <td>4.052102</td>\n",
       "    </tr>\n",
       "    <tr>\n",
       "      <th>204</th>\n",
       "      <td>912828H86</td>\n",
       "      <td>MARKET BASED NOTE</td>\n",
       "      <td>1.500%</td>\n",
       "      <td>2022-01-31</td>\n",
       "      <td>NaN</td>\n",
       "      <td>97.593750</td>\n",
       "      <td>97.59375</td>\n",
       "      <td>97.62500</td>\n",
       "      <td>4.136977</td>\n",
       "    </tr>\n",
       "    <tr>\n",
       "      <th>205</th>\n",
       "      <td>912828V72</td>\n",
       "      <td>MARKET BASED NOTE</td>\n",
       "      <td>1.875%</td>\n",
       "      <td>2022-01-31</td>\n",
       "      <td>NaN</td>\n",
       "      <td>99.015625</td>\n",
       "      <td>99.00000</td>\n",
       "      <td>99.06250</td>\n",
       "      <td>4.136977</td>\n",
       "    </tr>\n",
       "  </tbody>\n",
       "</table>\n",
       "</div>"
      ]
     },
     "execution_count": 13,
     "metadata": {},
     "output_type": "execute_result"
    }
   ],
   "source": [
    "df[200:205]"
   ]
  },
  {
   "cell_type": "markdown",
   "metadata": {},
   "source": [
    "# Fit Nelson-Siegel"
   ]
  },
  {
   "cell_type": "code",
   "execution_count": 14,
   "metadata": {},
   "outputs": [],
   "source": [
    "treasuries = df[df['SECURITY TYPE'].isin(['MARKET BASED BILL', 'MARKET BASED NOTE', 'MARKET BASED BOND'])]"
   ]
  },
  {
   "cell_type": "code",
   "execution_count": 15,
   "metadata": {
    "scrolled": true
   },
   "outputs": [
    {
     "data": {
      "text/html": [
       "<div>\n",
       "<style>\n",
       "    .dataframe thead tr:only-child th {\n",
       "        text-align: right;\n",
       "    }\n",
       "\n",
       "    .dataframe thead th {\n",
       "        text-align: left;\n",
       "    }\n",
       "\n",
       "    .dataframe tbody tr th {\n",
       "        vertical-align: top;\n",
       "    }\n",
       "</style>\n",
       "<table border=\"1\" class=\"dataframe\">\n",
       "  <thead>\n",
       "    <tr style=\"text-align: right;\">\n",
       "      <th></th>\n",
       "      <th>CUSIP</th>\n",
       "      <th>SECURITY TYPE</th>\n",
       "      <th>RATE</th>\n",
       "      <th>MATURITY DATE</th>\n",
       "      <th>CALL DATE</th>\n",
       "      <th>BUY</th>\n",
       "      <th>SELL</th>\n",
       "      <th>END OF DAY</th>\n",
       "      <th>MATURITY</th>\n",
       "    </tr>\n",
       "  </thead>\n",
       "  <tbody>\n",
       "    <tr>\n",
       "      <th>1</th>\n",
       "      <td>912796MG1</td>\n",
       "      <td>MARKET BASED BILL</td>\n",
       "      <td>0.000%</td>\n",
       "      <td>2017-12-14</td>\n",
       "      <td>NaN</td>\n",
       "      <td>0.000000</td>\n",
       "      <td>99.995000</td>\n",
       "      <td>99.997444</td>\n",
       "      <td>0.005476</td>\n",
       "    </tr>\n",
       "    <tr>\n",
       "      <th>2</th>\n",
       "      <td>912796MH9</td>\n",
       "      <td>MARKET BASED BILL</td>\n",
       "      <td>0.000%</td>\n",
       "      <td>2017-12-21</td>\n",
       "      <td>NaN</td>\n",
       "      <td>99.972625</td>\n",
       "      <td>99.972500</td>\n",
       "      <td>99.975333</td>\n",
       "      <td>0.024641</td>\n",
       "    </tr>\n",
       "    <tr>\n",
       "      <th>3</th>\n",
       "      <td>912796MJ5</td>\n",
       "      <td>MARKET BASED BILL</td>\n",
       "      <td>0.000%</td>\n",
       "      <td>2017-12-28</td>\n",
       "      <td>NaN</td>\n",
       "      <td>99.946000</td>\n",
       "      <td>99.945778</td>\n",
       "      <td>99.949167</td>\n",
       "      <td>0.043807</td>\n",
       "    </tr>\n",
       "    <tr>\n",
       "      <th>4</th>\n",
       "      <td>912796RK7</td>\n",
       "      <td>MARKET BASED BILL</td>\n",
       "      <td>0.000%</td>\n",
       "      <td>2018-01-02</td>\n",
       "      <td>NaN</td>\n",
       "      <td>99.932042</td>\n",
       "      <td>99.931750</td>\n",
       "      <td>99.935556</td>\n",
       "      <td>0.057496</td>\n",
       "    </tr>\n",
       "    <tr>\n",
       "      <th>5</th>\n",
       "      <td>912796LC1</td>\n",
       "      <td>MARKET BASED BILL</td>\n",
       "      <td>0.000%</td>\n",
       "      <td>2018-01-04</td>\n",
       "      <td>NaN</td>\n",
       "      <td>99.925569</td>\n",
       "      <td>99.925250</td>\n",
       "      <td>99.927889</td>\n",
       "      <td>0.062972</td>\n",
       "    </tr>\n",
       "  </tbody>\n",
       "</table>\n",
       "</div>"
      ],
      "text/plain": [
       "<div>\n",
       "<style>\n",
       "    .dataframe thead tr:only-child th {\n",
       "        text-align: right;\n",
       "    }\n",
       "\n",
       "    .dataframe thead th {\n",
       "        text-align: left;\n",
       "    }\n",
       "\n",
       "    .dataframe tbody tr th {\n",
       "        vertical-align: top;\n",
       "    }\n",
       "</style>\n",
       "<table border=\"1\" class=\"dataframe\">\n",
       "  <thead>\n",
       "    <tr style=\"text-align: right;\">\n",
       "      <th></th>\n",
       "      <th>CUSIP</th>\n",
       "      <th>SECURITY TYPE</th>\n",
       "      <th>RATE</th>\n",
       "      <th>MATURITY DATE</th>\n",
       "      <th>CALL DATE</th>\n",
       "      <th>BUY</th>\n",
       "      <th>SELL</th>\n",
       "      <th>END OF DAY</th>\n",
       "      <th>MATURITY</th>\n",
       "    </tr>\n",
       "  </thead>\n",
       "  <tbody>\n",
       "    <tr>\n",
       "      <th>1</th>\n",
       "      <td>912796MG1</td>\n",
       "      <td>MARKET BASED BILL</td>\n",
       "      <td>0.000%</td>\n",
       "      <td>2017-12-14</td>\n",
       "      <td>NaN</td>\n",
       "      <td>0.000000</td>\n",
       "      <td>99.995000</td>\n",
       "      <td>99.997444</td>\n",
       "      <td>0.005476</td>\n",
       "    </tr>\n",
       "    <tr>\n",
       "      <th>2</th>\n",
       "      <td>912796MH9</td>\n",
       "      <td>MARKET BASED BILL</td>\n",
       "      <td>0.000%</td>\n",
       "      <td>2017-12-21</td>\n",
       "      <td>NaN</td>\n",
       "      <td>99.972625</td>\n",
       "      <td>99.972500</td>\n",
       "      <td>99.975333</td>\n",
       "      <td>0.024641</td>\n",
       "    </tr>\n",
       "    <tr>\n",
       "      <th>3</th>\n",
       "      <td>912796MJ5</td>\n",
       "      <td>MARKET BASED BILL</td>\n",
       "      <td>0.000%</td>\n",
       "      <td>2017-12-28</td>\n",
       "      <td>NaN</td>\n",
       "      <td>99.946000</td>\n",
       "      <td>99.945778</td>\n",
       "      <td>99.949167</td>\n",
       "      <td>0.043807</td>\n",
       "    </tr>\n",
       "    <tr>\n",
       "      <th>4</th>\n",
       "      <td>912796RK7</td>\n",
       "      <td>MARKET BASED BILL</td>\n",
       "      <td>0.000%</td>\n",
       "      <td>2018-01-02</td>\n",
       "      <td>NaN</td>\n",
       "      <td>99.932042</td>\n",
       "      <td>99.931750</td>\n",
       "      <td>99.935556</td>\n",
       "      <td>0.057496</td>\n",
       "    </tr>\n",
       "    <tr>\n",
       "      <th>5</th>\n",
       "      <td>912796LC1</td>\n",
       "      <td>MARKET BASED BILL</td>\n",
       "      <td>0.000%</td>\n",
       "      <td>2018-01-04</td>\n",
       "      <td>NaN</td>\n",
       "      <td>99.925569</td>\n",
       "      <td>99.925250</td>\n",
       "      <td>99.927889</td>\n",
       "      <td>0.062972</td>\n",
       "    </tr>\n",
       "  </tbody>\n",
       "</table>\n",
       "</div>"
      ]
     },
     "execution_count": 15,
     "metadata": {},
     "output_type": "execute_result"
    }
   ],
   "source": [
    "treasuries.head()"
   ]
  },
  {
   "cell_type": "code",
   "execution_count": 16,
   "metadata": {
    "collapsed": true
   },
   "outputs": [],
   "source": [
    "prices = treasuries['END OF DAY']"
   ]
  },
  {
   "cell_type": "code",
   "execution_count": 17,
   "metadata": {},
   "outputs": [],
   "source": [
    "cashflows, maturities = data.cashflows_matrix(treasuries, quote_date)"
   ]
  },
  {
   "cell_type": "code",
   "execution_count": 18,
   "metadata": {
    "scrolled": false
   },
   "outputs": [
    {
     "name": "stderr",
     "output_type": "stream",
     "text": [
      "/Users/danielmcampos/Documents/Python/fixed-income/src/fixed_income/yieldcurves.py:9: RuntimeWarning: divide by zero encountered in true_divide\n  inverse_maturities = (1.0 / maturities)\n/Users/danielmcampos/Documents/Python/fixed-income/src/fixed_income/yieldcurves.py:30: RuntimeWarning: overflow encountered in exp\n  zeros = np.exp(-maturities * yields)\n"
     ]
    }
   ],
   "source": [
    "nelson_siegel = yieldcurves.NelsonSiegel.from_fit(prices, cashflows, maturities)"
   ]
  },
  {
   "cell_type": "code",
   "execution_count": 19,
   "metadata": {},
   "outputs": [
    {
     "data": {
      "text/plain": [
       "NelsonSiegel(theta0=0.0316,theta1=-0.0118,theta2=0.0010,kappa=8.2685)"
      ]
     },
     "execution_count": 19,
     "metadata": {},
     "output_type": "execute_result"
    }
   ],
   "source": [
    "nelson_siegel"
   ]
  },
  {
   "cell_type": "code",
   "execution_count": 21,
   "metadata": {},
   "outputs": [
    {
     "data": {
      "text/plain": [
       "<IPython.core.display.Javascript object>"
      ]
     },
     "execution_count": 0,
     "metadata": {},
     "output_type": "execute_result"
    },
    {
     "data": {
      "text/html": [
       "<div id='cc8f77b8-c5eb-433b-97e3-8a15f19e1a74'></div>"
      ],
      "text/plain": [
       "<div id='cc8f77b8-c5eb-433b-97e3-8a15f19e1a74'></div>"
      ]
     },
     "execution_count": 0,
     "metadata": {},
     "output_type": "execute_result"
    },
    {
     "name": "stderr",
     "output_type": "stream",
     "text": [
      "/Users/danielmcampos/Documents/Python/fixed-income/src/fixed_income/yieldcurves.py:9: RuntimeWarning: divide by zero encountered in true_divide\n  inverse_maturities = (1.0 / maturities)\n"
     ]
    }
   ],
   "source": [
    "fig = plots.term_structure(nelson_siegel, prices, treasuries['MATURITY'], cashflows, maturities, quote_date)"
   ]
  },
  {
   "cell_type": "code",
   "execution_count": null,
   "metadata": {
    "collapsed": true
   },
   "outputs": [],
   "source": []
  },
  {
   "cell_type": "code",
   "execution_count": null,
   "metadata": {
    "collapsed": true
   },
   "outputs": [],
   "source": []
  },
  {
   "cell_type": "code",
   "execution_count": null,
   "metadata": {
    "collapsed": true
   },
   "outputs": [],
   "source": []
  },
  {
   "cell_type": "code",
   "execution_count": null,
   "metadata": {
    "collapsed": true
   },
   "outputs": [],
   "source": []
  },
  {
   "cell_type": "code",
   "execution_count": null,
   "metadata": {
    "collapsed": true
   },
   "outputs": [],
   "source": []
  },
  {
   "cell_type": "code",
   "execution_count": null,
   "metadata": {
    "collapsed": true
   },
   "outputs": [],
   "source": []
  },
  {
   "cell_type": "code",
   "execution_count": null,
   "metadata": {
    "collapsed": true
   },
   "outputs": [],
   "source": []
  },
  {
   "cell_type": "code",
   "execution_count": null,
   "metadata": {
    "collapsed": true
   },
   "outputs": [],
   "source": []
  },
  {
   "cell_type": "code",
   "execution_count": null,
   "metadata": {
    "collapsed": true
   },
   "outputs": [],
   "source": []
  },
  {
   "cell_type": "code",
   "execution_count": null,
   "metadata": {
    "collapsed": true
   },
   "outputs": [],
   "source": []
  }
 ],
 "metadata": {
  "hide_input": false,
  "kernelspec": {
   "display_name": "Python 3",
   "language": "python",
   "name": "python3"
  },
  "language_info": {
   "codemirror_mode": {
    "name": "ipython",
    "version": 3
   },
   "file_extension": ".py",
   "mimetype": "text/x-python",
   "name": "python",
   "nbconvert_exporter": "python",
   "pygments_lexer": "ipython3",
   "version": "3.6.1"
  },
  "toc": {
   "toc_cell": false,
   "toc_number_sections": false,
   "toc_threshold": 6.0,
   "toc_window_display": false
  }
 },
 "nbformat": 4,
 "nbformat_minor": 2
}

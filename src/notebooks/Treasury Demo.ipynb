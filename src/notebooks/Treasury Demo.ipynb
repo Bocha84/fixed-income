{
 "cells": [
  {
   "cell_type": "code",
   "execution_count": 1,
   "metadata": {},
   "outputs": [],
   "source": [
    "%load_ext lab_black"
   ]
  },
  {
   "cell_type": "code",
   "execution_count": 2,
   "metadata": {},
   "outputs": [],
   "source": [
    "import datetime\n",
    "import warnings\n",
    "\n",
    "from fixed_income import data, yieldcurves, plots\n",
    "\n",
    "warnings.filterwarnings(\"ignore\")\n",
    "%matplotlib inline"
   ]
  },
  {
   "cell_type": "markdown",
   "metadata": {},
   "source": [
    "# Get Treasury data"
   ]
  },
  {
   "cell_type": "code",
   "execution_count": 3,
   "metadata": {},
   "outputs": [],
   "source": [
    "quote_date = datetime.date(year=2020, month=12, day=16)\n",
    "\n",
    "df = data.treasury_direct_prices(quote_date)"
   ]
  },
  {
   "cell_type": "code",
   "execution_count": 4,
   "metadata": {},
   "outputs": [
    {
     "data": {
      "text/html": [
       "<div>\n",
       "<style scoped>\n",
       "    .dataframe tbody tr th:only-of-type {\n",
       "        vertical-align: middle;\n",
       "    }\n",
       "\n",
       "    .dataframe tbody tr th {\n",
       "        vertical-align: top;\n",
       "    }\n",
       "\n",
       "    .dataframe thead th {\n",
       "        text-align: right;\n",
       "    }\n",
       "</style>\n",
       "<table border=\"1\" class=\"dataframe\">\n",
       "  <thead>\n",
       "    <tr style=\"text-align: right;\">\n",
       "      <th></th>\n",
       "      <th>CUSIP</th>\n",
       "      <th>SECURITY_TYPE</th>\n",
       "      <th>RATE</th>\n",
       "      <th>MATURITY_DATE</th>\n",
       "      <th>CALL_DATE</th>\n",
       "      <th>BUY</th>\n",
       "      <th>SELL</th>\n",
       "      <th>END_OF_DAY</th>\n",
       "      <th>MATURITY</th>\n",
       "      <th>COUPON</th>\n",
       "      <th>QUOTE_DATE</th>\n",
       "    </tr>\n",
       "  </thead>\n",
       "  <tbody>\n",
       "    <tr>\n",
       "      <th>0</th>\n",
       "      <td>9127963K3</td>\n",
       "      <td>MARKET BASED BILL</td>\n",
       "      <td>0.000%</td>\n",
       "      <td>2020-12-17</td>\n",
       "      <td>NaN</td>\n",
       "      <td>0.000000</td>\n",
       "      <td>99.999806</td>\n",
       "      <td>100.000000</td>\n",
       "      <td>0.002738</td>\n",
       "      <td>0.0</td>\n",
       "      <td>2020-12-16</td>\n",
       "    </tr>\n",
       "    <tr>\n",
       "      <th>1</th>\n",
       "      <td>9127965D7</td>\n",
       "      <td>MARKET BASED BILL</td>\n",
       "      <td>0.000%</td>\n",
       "      <td>2020-12-22</td>\n",
       "      <td>NaN</td>\n",
       "      <td>0.000000</td>\n",
       "      <td>99.998833</td>\n",
       "      <td>99.999028</td>\n",
       "      <td>0.016427</td>\n",
       "      <td>0.0</td>\n",
       "      <td>2020-12-16</td>\n",
       "    </tr>\n",
       "    <tr>\n",
       "      <th>2</th>\n",
       "      <td>9127963L1</td>\n",
       "      <td>MARKET BASED BILL</td>\n",
       "      <td>0.000%</td>\n",
       "      <td>2020-12-24</td>\n",
       "      <td>NaN</td>\n",
       "      <td>99.998333</td>\n",
       "      <td>99.998222</td>\n",
       "      <td>99.998444</td>\n",
       "      <td>0.021903</td>\n",
       "      <td>0.0</td>\n",
       "      <td>2020-12-16</td>\n",
       "    </tr>\n",
       "    <tr>\n",
       "      <th>3</th>\n",
       "      <td>9127965F2</td>\n",
       "      <td>MARKET BASED BILL</td>\n",
       "      <td>0.000%</td>\n",
       "      <td>2020-12-29</td>\n",
       "      <td>NaN</td>\n",
       "      <td>99.997292</td>\n",
       "      <td>99.997111</td>\n",
       "      <td>99.997333</td>\n",
       "      <td>0.035593</td>\n",
       "      <td>0.0</td>\n",
       "      <td>2020-12-16</td>\n",
       "    </tr>\n",
       "    <tr>\n",
       "      <th>4</th>\n",
       "      <td>912796TY5</td>\n",
       "      <td>MARKET BASED BILL</td>\n",
       "      <td>0.000%</td>\n",
       "      <td>2020-12-31</td>\n",
       "      <td>NaN</td>\n",
       "      <td>99.996667</td>\n",
       "      <td>99.996667</td>\n",
       "      <td>99.996500</td>\n",
       "      <td>0.041069</td>\n",
       "      <td>0.0</td>\n",
       "      <td>2020-12-16</td>\n",
       "    </tr>\n",
       "  </tbody>\n",
       "</table>\n",
       "</div>"
      ],
      "text/plain": [
       "       CUSIP      SECURITY_TYPE    RATE MATURITY_DATE  CALL_DATE        BUY  \\\n",
       "0  9127963K3  MARKET BASED BILL  0.000%    2020-12-17        NaN   0.000000   \n",
       "1  9127965D7  MARKET BASED BILL  0.000%    2020-12-22        NaN   0.000000   \n",
       "2  9127963L1  MARKET BASED BILL  0.000%    2020-12-24        NaN  99.998333   \n",
       "3  9127965F2  MARKET BASED BILL  0.000%    2020-12-29        NaN  99.997292   \n",
       "4  912796TY5  MARKET BASED BILL  0.000%    2020-12-31        NaN  99.996667   \n",
       "\n",
       "        SELL  END_OF_DAY  MATURITY  COUPON  QUOTE_DATE  \n",
       "0  99.999806  100.000000  0.002738     0.0  2020-12-16  \n",
       "1  99.998833   99.999028  0.016427     0.0  2020-12-16  \n",
       "2  99.998222   99.998444  0.021903     0.0  2020-12-16  \n",
       "3  99.997111   99.997333  0.035593     0.0  2020-12-16  \n",
       "4  99.996667   99.996500  0.041069     0.0  2020-12-16  "
      ]
     },
     "execution_count": 4,
     "metadata": {},
     "output_type": "execute_result"
    }
   ],
   "source": [
    "df.head()"
   ]
  },
  {
   "cell_type": "markdown",
   "metadata": {},
   "source": [
    "# Fit Nelson-Siegel"
   ]
  },
  {
   "cell_type": "code",
   "execution_count": 5,
   "metadata": {},
   "outputs": [],
   "source": [
    "treasuries = df[\n",
    "    df[\"SECURITY_TYPE\"].isin(\n",
    "        [\"MARKET BASED BILL\", \"MARKET BASED NOTE\", \"MARKET BASED BOND\"]\n",
    "    )\n",
    "]"
   ]
  },
  {
   "cell_type": "code",
   "execution_count": 6,
   "metadata": {
    "scrolled": true
   },
   "outputs": [
    {
     "data": {
      "text/html": [
       "<div>\n",
       "<style scoped>\n",
       "    .dataframe tbody tr th:only-of-type {\n",
       "        vertical-align: middle;\n",
       "    }\n",
       "\n",
       "    .dataframe tbody tr th {\n",
       "        vertical-align: top;\n",
       "    }\n",
       "\n",
       "    .dataframe thead th {\n",
       "        text-align: right;\n",
       "    }\n",
       "</style>\n",
       "<table border=\"1\" class=\"dataframe\">\n",
       "  <thead>\n",
       "    <tr style=\"text-align: right;\">\n",
       "      <th></th>\n",
       "      <th>CUSIP</th>\n",
       "      <th>SECURITY_TYPE</th>\n",
       "      <th>RATE</th>\n",
       "      <th>MATURITY_DATE</th>\n",
       "      <th>CALL_DATE</th>\n",
       "      <th>BUY</th>\n",
       "      <th>SELL</th>\n",
       "      <th>END_OF_DAY</th>\n",
       "      <th>MATURITY</th>\n",
       "      <th>COUPON</th>\n",
       "      <th>QUOTE_DATE</th>\n",
       "    </tr>\n",
       "  </thead>\n",
       "  <tbody>\n",
       "    <tr>\n",
       "      <th>0</th>\n",
       "      <td>9127963K3</td>\n",
       "      <td>MARKET BASED BILL</td>\n",
       "      <td>0.000%</td>\n",
       "      <td>2020-12-17</td>\n",
       "      <td>NaN</td>\n",
       "      <td>0.000000</td>\n",
       "      <td>99.999806</td>\n",
       "      <td>100.000000</td>\n",
       "      <td>0.002738</td>\n",
       "      <td>0.0</td>\n",
       "      <td>2020-12-16</td>\n",
       "    </tr>\n",
       "    <tr>\n",
       "      <th>1</th>\n",
       "      <td>9127965D7</td>\n",
       "      <td>MARKET BASED BILL</td>\n",
       "      <td>0.000%</td>\n",
       "      <td>2020-12-22</td>\n",
       "      <td>NaN</td>\n",
       "      <td>0.000000</td>\n",
       "      <td>99.998833</td>\n",
       "      <td>99.999028</td>\n",
       "      <td>0.016427</td>\n",
       "      <td>0.0</td>\n",
       "      <td>2020-12-16</td>\n",
       "    </tr>\n",
       "    <tr>\n",
       "      <th>2</th>\n",
       "      <td>9127963L1</td>\n",
       "      <td>MARKET BASED BILL</td>\n",
       "      <td>0.000%</td>\n",
       "      <td>2020-12-24</td>\n",
       "      <td>NaN</td>\n",
       "      <td>99.998333</td>\n",
       "      <td>99.998222</td>\n",
       "      <td>99.998444</td>\n",
       "      <td>0.021903</td>\n",
       "      <td>0.0</td>\n",
       "      <td>2020-12-16</td>\n",
       "    </tr>\n",
       "    <tr>\n",
       "      <th>3</th>\n",
       "      <td>9127965F2</td>\n",
       "      <td>MARKET BASED BILL</td>\n",
       "      <td>0.000%</td>\n",
       "      <td>2020-12-29</td>\n",
       "      <td>NaN</td>\n",
       "      <td>99.997292</td>\n",
       "      <td>99.997111</td>\n",
       "      <td>99.997333</td>\n",
       "      <td>0.035593</td>\n",
       "      <td>0.0</td>\n",
       "      <td>2020-12-16</td>\n",
       "    </tr>\n",
       "    <tr>\n",
       "      <th>4</th>\n",
       "      <td>912796TY5</td>\n",
       "      <td>MARKET BASED BILL</td>\n",
       "      <td>0.000%</td>\n",
       "      <td>2020-12-31</td>\n",
       "      <td>NaN</td>\n",
       "      <td>99.996667</td>\n",
       "      <td>99.996667</td>\n",
       "      <td>99.996500</td>\n",
       "      <td>0.041069</td>\n",
       "      <td>0.0</td>\n",
       "      <td>2020-12-16</td>\n",
       "    </tr>\n",
       "  </tbody>\n",
       "</table>\n",
       "</div>"
      ],
      "text/plain": [
       "       CUSIP      SECURITY_TYPE    RATE MATURITY_DATE  CALL_DATE        BUY  \\\n",
       "0  9127963K3  MARKET BASED BILL  0.000%    2020-12-17        NaN   0.000000   \n",
       "1  9127965D7  MARKET BASED BILL  0.000%    2020-12-22        NaN   0.000000   \n",
       "2  9127963L1  MARKET BASED BILL  0.000%    2020-12-24        NaN  99.998333   \n",
       "3  9127965F2  MARKET BASED BILL  0.000%    2020-12-29        NaN  99.997292   \n",
       "4  912796TY5  MARKET BASED BILL  0.000%    2020-12-31        NaN  99.996667   \n",
       "\n",
       "        SELL  END_OF_DAY  MATURITY  COUPON  QUOTE_DATE  \n",
       "0  99.999806  100.000000  0.002738     0.0  2020-12-16  \n",
       "1  99.998833   99.999028  0.016427     0.0  2020-12-16  \n",
       "2  99.998222   99.998444  0.021903     0.0  2020-12-16  \n",
       "3  99.997111   99.997333  0.035593     0.0  2020-12-16  \n",
       "4  99.996667   99.996500  0.041069     0.0  2020-12-16  "
      ]
     },
     "execution_count": 6,
     "metadata": {},
     "output_type": "execute_result"
    }
   ],
   "source": [
    "treasuries.head()"
   ]
  },
  {
   "cell_type": "code",
   "execution_count": 7,
   "metadata": {},
   "outputs": [],
   "source": [
    "prices = treasuries[\"END_OF_DAY\"]"
   ]
  },
  {
   "cell_type": "code",
   "execution_count": 8,
   "metadata": {},
   "outputs": [],
   "source": [
    "cashflows, maturities = data.cashflows_matrix(treasuries, quote_date)"
   ]
  },
  {
   "cell_type": "code",
   "execution_count": 9,
   "metadata": {},
   "outputs": [],
   "source": [
    "nelson_siegel = yieldcurves.NelsonSiegel.from_fit(prices, cashflows, maturities)"
   ]
  },
  {
   "cell_type": "code",
   "execution_count": 10,
   "metadata": {},
   "outputs": [
    {
     "data": {
      "text/plain": [
       "NelsonSiegel(theta0=0.0212,theta1=-0.0192,theta2=-0.0116,kappa=4.0195)"
      ]
     },
     "execution_count": 10,
     "metadata": {},
     "output_type": "execute_result"
    }
   ],
   "source": [
    "nelson_siegel"
   ]
  },
  {
   "cell_type": "code",
   "execution_count": 15,
   "metadata": {},
   "outputs": [
    {
     "data": {
      "image/png": "[encoded data removed]",
      "text/plain": [
       "<Figure size 576x720 with 3 Axes>"
      ]
     },
     "metadata": {
      "needs_background": "light"
     },
     "output_type": "display_data"
    }
   ],
   "source": [
    "fig = plots.term_structure(\n",
    "    nelson_siegel, prices, treasuries[\"MATURITY\"], cashflows, maturities, quote_date\n",
    ")"
   ]
  },
  {
   "cell_type": "code",
   "execution_count": null,
   "metadata": {},
   "outputs": [],
   "source": []
  }
 ],
 "metadata": {
  "hide_input": false,
  "kernelspec": {
   "display_name": "Python 3",
   "language": "python",
   "name": "python3"
  },
  "language_info": {
   "codemirror_mode": {
    "name": "ipython",
    "version": 3
   },
   "file_extension": ".py",
   "mimetype": "text/x-python",
   "name": "python",
   "nbconvert_exporter": "python",
   "pygments_lexer": "ipython3",
   "version": "3.6.10"
  },
  "toc": {
   "toc_cell": false,
   "toc_number_sections": false,
   "toc_threshold": 6,
   "toc_window_display": false
  }
 },
 "nbformat": 4,
 "nbformat_minor": 4
}
